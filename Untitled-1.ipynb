{
  "cells": [
    {
      "cell_type": "code",
      "source": [
        "!pip install langchain-community\n",
        "!pip install langchain-chroma\n",
        "!pip install langchain-huggingface\n",
        "!pip install langchain-text-splitter\n",
        "%pip install -qU pypdf\n",
        "\n",
        "from pathlib import Path\n",
        "from langchain import hub\n",
        "from langchain_chroma import Chroma\n",
        "from langchain_community.document_loaders import PyPDFLoader # This line should work after installation\n",
        "from langchain_core.output_parsers import StrOutputParser\n",
        "from langchain_core.runnables import RunnablePassthrough\n",
        "from langchain_huggingface.embeddings import HuggingFaceEmbeddings\n",
        "from langchain_text_splitters import RecursiveCharacterTextSplitter\n",
        "\n",
        "from IPython.display import clear_output\n",
        "clear_output()"
      ],
      "metadata": {
        "id": "tUGbHhEY_rws"
      },
      "execution_count": 1,
      "outputs": []
    },
    {
      "cell_type": "code",
      "source": [
        "import requests\n",
        "\n",
        "def download_from_github_raw(url, filename):\n",
        "  \"\"\"Downloads a file from a GitHub raw link.\n",
        "\n",
        "  Args:\n",
        "    url: The URL of the GitHub raw file.\n",
        "    filename: The name to save the file as.\n",
        "  \"\"\"\n",
        "\n",
        "  response = requests.get(url, stream=True)\n",
        "  response.raise_for_status()  # Raise an exception for bad status codes\n",
        "\n",
        "  with open(filename, 'wb') as file:\n",
        "    for chunk in response.iter_content(chunk_size=8192):\n",
        "      file.write(chunk)\n",
        "\n",
        "  print(f\"File '{filename}' downloaded successfully.\")\n",
        "\n",
        "url = \"https://github.com/messi10tom/NoteG/blob/3bb03449e23aa8701f7714624ffb197215309b9f/Data/pdfs/leph101.pdf?raw=true\"\n",
        "filename = Path('pdfs/leph101.pdf')\n",
        "\n",
        "# Check if the file already exists\n",
        "\n",
        "if not filename.exists():\n",
        "  filename.parent.mkdir(parents=True, exist_ok=True)\n",
        "  download_from_github_raw(url, filename)"
      ],
      "metadata": {
        "id": "Rlc5B9lNCMcb",
        "outputId": "382e5d49-7ed6-4796-f365-840155be32c2",
        "colab": {
          "base_uri": "https://localhost:8080/"
        }
      },
      "execution_count": 2,
      "outputs": [
        {
          "output_type": "stream",
          "name": "stdout",
          "text": [
            "File 'pdfs/leph101.pdf' downloaded successfully.\n"
          ]
        }
      ]
    },
    {
      "cell_type": "code",
      "source": [
        "def loader(dir: Path) -> list:\n",
        "    docs = []\n",
        "\n",
        "    for pdf in dir.glob('*.pdf'):\n",
        "        pdf_loader = PyPDFLoader(\n",
        "            file_path = pdf,\n",
        "            extract_images = False\n",
        "            )\n",
        "        docs.extend(pdf_loader.load())\n",
        "\n",
        "    return docs"
      ],
      "metadata": {
        "id": "5U9aDk87Dt5X"
      },
      "execution_count": 2,
      "outputs": []
    },
    {
      "cell_type": "code",
      "source": [
        "from langchain_huggingface import HuggingFacePipeline\n",
        "\n",
        "embeddings = HuggingFaceEmbeddings(model_name=\"Qwen/Qwen2.5-1.5B\")\n",
        "hf = HuggingFacePipeline.from_model_id(\n",
        "    model_id=\"Qwen/Qwen2.5-1.5B\",\n",
        "    task=\"text-generation\"\n",
        ")\n",
        "\n",
        "clear_output()"
      ],
      "metadata": {
        "id": "ZNa3q0fBF6op"
      },
      "execution_count": 3,
      "outputs": []
    },
    {
      "cell_type": "code",
      "source": [
        "docs = loader(Path('pdfs'))\n",
        "\n",
        "text_splitter = RecursiveCharacterTextSplitter(chunk_size=1000, chunk_overlap=200)\n",
        "splits = text_splitter.split_documents(docs)\n",
        "vectorstore = Chroma.from_documents(documents=splits, embedding=embeddings)"
      ],
      "metadata": {
        "id": "QzUIrqK0HoBZ",
        "outputId": "69bd2dc1-9935-48e8-99c6-92e40eb3bf38",
        "colab": {
          "base_uri": "https://localhost:8080/"
        }
      },
      "execution_count": 4,
      "outputs": [
        {
          "output_type": "stream",
          "name": "stderr",
          "text": [
            "We detected that you are passing `past_key_values` as a tuple and this is deprecated and will be removed in v4.43. Please use an appropriate `Cache` class (https://huggingface.co/docs/transformers/v4.41.3/en/internal/generation_utils#transformers.Cache)\n"
          ]
        }
      ]
    },
    {
      "cell_type": "code",
      "source": [
        "\n",
        "# Retrieve and generate using the relevant snippets of the blog.\n",
        "retriever = vectorstore.as_retriever()\n",
        "prompt = hub.pull(\"rlm/rag-prompt\")\n",
        "\n",
        "\n",
        "def format_docs(docs):\n",
        "    return \"\\n\\n\".join(doc.page_content for doc in docs)\n",
        "\n",
        "\n",
        "rag_chain = (\n",
        "    {\"context\": retriever | format_docs, \"question\": RunnablePassthrough()}\n",
        "    | prompt\n",
        "    | hf\n",
        "    | StrOutputParser()\n",
        ")"
      ],
      "metadata": {
        "id": "QvtKZpD8_n_x",
        "outputId": "2f8a3c60-d62a-4e02-9a10-409b1fe4db10",
        "colab": {
          "base_uri": "https://localhost:8080/"
        }
      },
      "execution_count": 5,
      "outputs": [
        {
          "output_type": "stream",
          "name": "stderr",
          "text": [
            "/usr/local/lib/python3.10/dist-packages/langsmith/client.py:354: LangSmithMissingAPIKeyWarning: API key must be provided when using hosted LangSmith API\n",
            "  warnings.warn(\n"
          ]
        }
      ]
    },
    {
      "cell_type": "markdown",
      "source": [
        "### Data Analyzing\n",
        "-> We will be analyzing the quality of data."
      ],
      "metadata": {
        "id": "ohplLXTdEz4A"
      }
    },
    {
      "cell_type": "code",
      "execution_count": null,
      "metadata": {
        "id": "88pwIe2P_A7u",
        "outputId": "716e8905-0e2c-4b6c-e3c1-ef211005c4f5",
        "colab": {
          "base_uri": "https://localhost:8080/"
        }
      },
      "outputs": [
        {
          "output_type": "stream",
          "name": "stdout",
          "text": [
            "Total number of characters: 100671\n"
          ]
        }
      ],
      "source": [
        "total_text = '\\n'.join([doc.page_content for doc in docs])\n",
        "print(f'Total number of characters: {len(total_text)}')"
      ]
    },
    {
      "cell_type": "code",
      "source": [
        "# @title Chunking text\n",
        "\n",
        "total_text = total_text.split('.')\n"
      ],
      "metadata": {
        "id": "F0dcfsJqKx0m"
      },
      "execution_count": null,
      "outputs": []
    },
    {
      "cell_type": "code",
      "source": [
        "import matplotlib.pyplot as plt\n",
        "from collections import Counter\n",
        "\n",
        "def plot_length_distribution(total_text):\n",
        "  \"\"\"Plots a histogram of the length of each element in total_text.\"\"\"\n",
        "\n",
        "  text_lengths = [len(element) for element in total_text]\n",
        "\n",
        "  print(f'Total number of sentences: {len(text_lengths)}')\n",
        "  print(f'Average length of sentences: {sum(text_lengths) / len(text_lengths)}')\n",
        "  print(f'Maximum length of sentences: {max(text_lengths)}')\n",
        "  print(f'Minimum length of sentences: {min(text_lengths)}')\n",
        "  print(f'Median length of sentences: {sorted(text_lengths)[len(text_lengths) // 2]}')\n",
        "\n",
        "  length_counts = Counter(text_lengths)  # Count occurrences of each length\n",
        "  print(f'Most frequent: {length_counts.most_common(1)[0][0]}')\n",
        "\n",
        "  plt.hist(text_lengths, bins=50)\n",
        "  plt.xlabel('Length of Text Element')\n",
        "  plt.ylabel('Frequency')\n",
        "  plt.title('Distribution of Text Element Lengths')\n",
        "  plt.show()\n",
        "\n",
        "# Example usage:\n",
        "plot_length_distribution(total_text)"
      ],
      "metadata": {
        "id": "whXAloLFLPfV",
        "outputId": "16bc104e-fff3-42a4-92d6-7af6e94a40e0",
        "colab": {
          "base_uri": "https://localhost:8080/",
          "height": 576
        }
      },
      "execution_count": null,
      "outputs": [
        {
          "output_type": "stream",
          "name": "stdout",
          "text": [
            "Total number of sentences: 1348\n",
            "Average length of sentences: 73.68249258160238\n",
            "Maximum length of sentences: 405\n",
            "Minimum length of sentences: 0\n",
            "Median length of sentences: 66\n",
            "Most frequent: 2\n"
          ]
        },
        {
          "output_type": "display_data",
          "data": {
            "text/plain": [
              "<Figure size 640x480 with 1 Axes>"
            ],
            "image/png": "[encoded data removed]"
          },
          "metadata": {}
        }
      ]
    },
    {
      "cell_type": "markdown",
      "source": [
        "From above plot we can see most of the text is junk. So next what we gonna do is cleaning up the data"
      ],
      "metadata": {
        "id": "abu_ZJSUN_qI"
      }
    },
    {
      "cell_type": "code",
      "source": [
        "import re\n",
        "\n",
        "def score_function(sentence):\n",
        "  total_alph_char = len(re.findall(r'[a-zA-Z]', sentence))\n",
        "  total_words = len(sentence.split(' '))\n",
        "  total_spaces = sentence.count(' ') if ' ' in sentence else float('inf')\n",
        "  total_numbers = len(re.findall(r'\\d', sentence))\n",
        "  total_symbols = len(sentence) - total_alph_char - total_numbers\n",
        "\n",
        "  return total_alph_char * total_words / total_spaces - total_symbols"
      ],
      "metadata": {
        "id": "--khFfxLPnWy"
      },
      "execution_count": null,
      "outputs": []
    },
    {
      "cell_type": "code",
      "source": [
        "score_function(total_text[0])"
      ],
      "metadata": {
        "id": "VqIWyfzbSbsZ",
        "outputId": "52744610-8998-47ea-9fe4-b16c239fae8f",
        "colab": {
          "base_uri": "https://localhost:8080/"
        }
      },
      "execution_count": null,
      "outputs": [
        {
          "output_type": "execute_result",
          "data": {
            "text/plain": [
              "39.333333333333336"
            ]
          },
          "metadata": {},
          "execution_count": 11
        }
      ]
    },
    {
      "cell_type": "code",
      "source": [
        "def get_score_lenght(sentences):\n",
        "  return ([score_function(sentence) for sentence in sentences],\n",
        "        [len(sentence) for sentence in sentences])"
      ],
      "metadata": {
        "id": "YPJCUsOMS06J"
      },
      "execution_count": null,
      "outputs": []
    },
    {
      "cell_type": "code",
      "source": [
        "score, length = get_score_lenght(total_text)\n",
        "\n",
        "plt.scatter(score, length, s=5)\n",
        "plt.xlabel('Score')\n",
        "plt.ylabel('Length')\n",
        "plt.title('Scatter Plot of Score vs. Length')"
      ],
      "metadata": {
        "id": "NfqDaFuFTlJV",
        "outputId": "189a1245-173e-4ddc-8aac-b5997c271f5e",
        "colab": {
          "base_uri": "https://localhost:8080/",
          "height": 489
        }
      },
      "execution_count": null,
      "outputs": [
        {
          "output_type": "execute_result",
          "data": {
            "text/plain": [
              "Text(0.5, 1.0, 'Scatter Plot of Score vs. Length')"
            ]
          },
          "metadata": {},
          "execution_count": 13
        },
        {
          "output_type": "display_data",
          "data": {
            "text/plain": [
              "<Figure size 640x480 with 1 Axes>"
            ],
            "image/png": "[encoded data removed]"
          },
          "metadata": {}
        }
      ]
    },
    {
      "cell_type": "code",
      "source": [
        "threshold_score = 80\n",
        "score = {sentence: score_function(sentence) for sentence in total_text if score_function(sentence) > threshold_score}\n",
        "sorted_score = dict(sorted(score.items(), key=lambda item: item[1]))\n",
        "\n",
        "print(f'total sample = {len(sorted_score)}')\n",
        "print(f\"percent of loss = {(len(total_text) - len(sorted_score)) / len(total_text) * 100}\")\n",
        "for i, (text, score) in enumerate(sorted_score.items()):\n",
        "  print(text, '\\n\\n------\\n')\n",
        "  print('score =', score)\n",
        "  if i == 10:\n",
        "    break"
      ],
      "metadata": {
        "id": "rg9f4FYkX8G0",
        "outputId": "f01204ce-6836-4cdb-e25e-fedd66626e97",
        "colab": {
          "base_uri": "https://localhost:8080/"
        }
      },
      "execution_count": null,
      "outputs": [
        {
          "output_type": "stream",
          "name": "stdout",
          "text": [
            "total sample = 205\n",
            "percent of loss = 84.79228486646885\n",
            "24\n",
            "Solution\n",
            "(a)Since the electric field has only an x component, for faces\n",
            "perpendicular to x direction, the angle between E and DS is\n",
            "± p/2 \n",
            "\n",
            "------\n",
            "\n",
            "score = 80.04761904761905\n",
            " For example, kinetic ener gy is a scalar under\n",
            "rotation, but is not invariant for frames of reference in relative\n",
            "motion \n",
            "\n",
            "------\n",
            "\n",
            "score = 80.15789473684211\n",
            " Thus the electric force is all pervasive and\n",
            "it encompasses almost each and every field associated with our life \n",
            "\n",
            "------\n",
            "\n",
            "score = 80.22222222222223\n",
            "\n",
            "Quantisation of electric charge means that total charge ( q) of a body\n",
            "is always an integral multiple of a basic quantum of charge ( e) i \n",
            "\n",
            "------\n",
            "\n",
            "score = 80.28\n",
            "1  Additivity of charges\n",
            "We have not as yet given a quantitative definition of a\n",
            "charge; we shall follow it  up in the next section \n",
            "\n",
            "------\n",
            "\n",
            "score = 80.29166666666667\n",
            " If\n",
            "a system contains two point charges q1 and q2, the total\n",
            "charge of the system is obtained simply by adding\n",
            "algebraically q1 and q2 , i \n",
            "\n",
            "------\n",
            "\n",
            "score = 80.375\n",
            " What is physically significant is the relative number of field lines crossing\n",
            "a given area at different points \n",
            "\n",
            "------\n",
            "\n",
            "score = 80.47058823529412\n",
            " Why do they not fly away?\n",
            "You will lear n that ther e is a thir d kind of a fundamental for ce,\n",
            "called the str ong for ce which holds them together  \n",
            "\n",
            "------\n",
            "\n",
            "score = 80.53125\n",
            "\n",
            "Likewise, in three-dimensions the solid angle * subtended by a small\n",
            "perpendicular plane ar ea DS, at a distance r, can be written as\n",
            "DW = DS/r2 \n",
            "\n",
            "------\n",
            "\n",
            "score = 80.58333333333333\n",
            "\n",
            "We can think of the limit when the dipole size 2 a appr oaches zer o,\n",
            "the charge q approaches infinity in such a way that the product\n",
            "p = q × 2a is finite \n",
            "\n",
            "------\n",
            "\n",
            "score = 80.59375\n",
            " Let\n",
            "us note some important points regarding this law:\n",
            "(i)Gauss’s law is true for any closed surface, no matter what its shape\n",
            "or size \n",
            "\n",
            "------\n",
            "\n",
            "score = 81.0\n"
          ]
        }
      ]
    },
    {
      "cell_type": "code",
      "source": [
        "plot_length_distribution(sorted_score.keys())"
      ],
      "metadata": {
        "id": "mCknAhN5YH96",
        "outputId": "912d7652-02df-4b67-f8d3-098039232bea",
        "colab": {
          "base_uri": "https://localhost:8080/",
          "height": 576
        }
      },
      "execution_count": null,
      "outputs": [
        {
          "output_type": "stream",
          "name": "stdout",
          "text": [
            "Total number of sentences: 205\n",
            "Average length of sentences: 169.0731707317073\n",
            "Maximum length of sentences: 405\n",
            "Minimum length of sentences: 111\n",
            "Median length of sentences: 155\n",
            "Most frequent: 134\n"
          ]
        },
        {
          "output_type": "display_data",
          "data": {
            "text/plain": [
              "<Figure size 640x480 with 1 Axes>"
            ],
            "image/png": "[encoded data removed]"
          },
          "metadata": {}
        }
      ]
    },
    {
      "cell_type": "markdown",
      "source": [
        "We can see that now the data is in more better region, but it doesn't mean that our data contains only meaningfull sentences"
      ],
      "metadata": {
        "id": "fRf0vIS0YtYm"
      }
    },
    {
      "cell_type": "code",
      "source": [
        "!pip install -U bitsandbytes\n",
        "!pip install accelerate\n",
        "\n",
        "clear_output()"
      ],
      "metadata": {
        "id": "03cNcXb2E27A"
      },
      "execution_count": null,
      "outputs": []
    },
    {
      "source": [
        "from transformers import AutoTokenizer, AutoModelForCausalLM, BitsAndBytesConfig\n",
        "\n",
        "tokenizer = AutoTokenizer.from_pretrained(\"Qwen/Qwen2.5-0.5B\")\n",
        "model = AutoModelForCausalLM.from_pretrained(\n",
        "    \"Qwen/Qwen2.5-0.5B\",\n",
        "    quantization_config=BitsAndBytesConfig(load_in_4bit=True)\n",
        ")\n",
        "\n",
        "clear_output()"
      ],
      "cell_type": "code",
      "metadata": {
        "id": "kaSlikCBGN2J"
      },
      "execution_count": null,
      "outputs": []
    },
    {
      "cell_type": "code",
      "source": [
        "sentences = list(sorted_score.keys())\n",
        "\n",
        "template = '''You are a short note generator. you can use given_data to create a good short note.\n",
        "given_data = [{givendata}]\n",
        "\n",
        "short note:\n",
        "'''\n",
        "\n",
        "prompt = template.format(givendata = '.'.join(sentences))\n",
        "prompt = tokenizer(prompt, return_tensors='pt').to('cuda')"
      ],
      "metadata": {
        "id": "ct77Eptl8yWG"
      },
      "execution_count": null,
      "outputs": []
    },
    {
      "cell_type": "code",
      "source": [
        "prompt"
      ],
      "metadata": {
        "id": "zS6TlxxD9c7i",
        "outputId": "04fbc54c-c647-4f5a-dd56-4cb148fbebaf",
        "colab": {
          "base_uri": "https://localhost:8080/"
        }
      },
      "execution_count": null,
      "outputs": [
        {
          "output_type": "execute_result",
          "data": {
            "text/plain": [
              "{'input_ids': tensor([[2610,  525,  264,  ..., 8676, 5185,  510]], device='cuda:0'), 'attention_mask': tensor([[1, 1, 1,  ..., 1, 1, 1]], device='cuda:0')}"
            ]
          },
          "metadata": {},
          "execution_count": 19
        }
      ]
    },
    {
      "cell_type": "code",
      "source": [
        "%%time\n",
        "\n",
        "# model = model.cuda()\n",
        "\n",
        "out = model.generate(**prompt, max_new_tokens=200)"
      ],
      "metadata": {
        "id": "S3Ksa-iZBCCH",
        "outputId": "b00e6502-5aee-4b12-9d50-e3e3cdbda254",
        "colab": {
          "base_uri": "https://localhost:8080/"
        }
      },
      "execution_count": null,
      "outputs": [
        {
          "output_type": "stream",
          "name": "stderr",
          "text": [
            "Setting `pad_token_id` to `eos_token_id`:151643 for open-end generation.\n"
          ]
        },
        {
          "output_type": "stream",
          "name": "stdout",
          "text": [
            "CPU times: user 13.9 s, sys: 561 ms, total: 14.5 s\n",
            "Wall time: 14.6 s\n"
          ]
        }
      ]
    },
    {
      "cell_type": "code",
      "source": [
        "note = tokenizer.decode(out[0])\n",
        "note = note.split('short note:')[1]\n",
        "print(note)"
      ],
      "metadata": {
        "id": "xiDWspeJHucW",
        "outputId": "e7d997f2-0430-4b54-8eb7-296fa6bfd895",
        "colab": {
          "base_uri": "https://localhost:8080/"
        }
      },
      "execution_count": null,
      "outputs": [
        {
          "output_type": "stream",
          "name": "stdout",
          "text": [
            "\n",
            "The electric field due to a point charge q at a point P is given by\n",
            "E = q / 4 π r 2\n",
            "where r is the perpendicular distance of the point from the point charge\n",
            "q and is the electric field due to a point charge q at a point P is given by\n",
            "E = q / 4 π r 2\n",
            "where r is the perpendicular distance of the point from the point charge\n",
            "q and is the electric field due to a point charge q at a point P is given by\n",
            "E = q / 4 π r 2\n",
            "where r is the perpendicular distance of the point from the point charge\n",
            "q and is the electric field due to a point charge q at a point P is given by\n",
            "E = q / 4 π r 2\n",
            "where r is the perpendicular distance of the point from the point charge\n",
            "q and is the electric field due to a point charge q at a point P is given by\n",
            "E = q\n"
          ]
        }
      ]
    }
  ],
  "metadata": {
    "kernelspec": {
      "display_name": "Python 3",
      "name": "python3"
    },
    "language_info": {
      "codemirror_mode": {
        "name": "ipython",
        "version": 3
      },
      "file_extension": ".py",
      "mimetype": "text/x-python",
      "name": "python",
      "nbconvert_exporter": "python",
      "pygments_lexer": "ipython3",
      "version": "3.12.6"
    },
    "colab": {
      "provenance": [],
      "gpuType": "T4"
    },
    "accelerator": "GPU"
  },
  "nbformat": 4,
  "nbformat_minor": 0
}