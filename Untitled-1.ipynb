{
 "cells": [
  {
   "cell_type": "code",
   "execution_count": 1,
   "metadata": {},
   "outputs": [],
   "source": [
    "# !pip install langchain-community\n",
    "# %pip install -qU pypdf\n",
    "\n",
    "from langchain_community.document_loaders import PyPDFLoader\n",
    "from langchain_core.vectorstores import InMemoryVectorStore\n",
    "from pathlib import Path"
   ]
  },
  {
   "cell_type": "code",
   "execution_count": 2,
   "metadata": {},
   "outputs": [],
   "source": [
    "PDFDIR = Path('Data') / 'pdfs'"
   ]
  },
  {
   "cell_type": "code",
   "execution_count": 3,
   "metadata": {},
   "outputs": [],
   "source": [
    "\n",
    "def pdfparser(dir: Path) -> dict:\n",
    "\n",
    "    parser = {}\n",
    "\n",
    "    for pdf in dir.glob('*.pdf'):\n",
    "        pdf_loader = PyPDFLoader(\n",
    "            file_path = pdf,\n",
    "            extract_images = False\n",
    "        )\n",
    "        parser[pdf.name] = pdf_loader\n",
    "\n",
    "    return parser\n"
   ]
  },
  {
   "cell_type": "code",
   "execution_count": 4,
   "metadata": {},
   "outputs": [
    {
     "name": "stdout",
     "output_type": "stream",
     "text": [
      "Chapter One\n",
      "ELECTRIC CHARGES\n",
      "AND FIELDS\n",
      "1.1  I NTRODUCTION\n",
      "All of us have the experience of seeing a\n",
      "{'source': 'Data\\\\pdfs\\\\leph101.pdf', 'page': 0}\n"
     ]
    }
   ],
   "source": [
    "parser = pdfparser(PDFDIR)\n",
    "sample_loader = next(iter(parser.values()))\n",
    "\n",
    "docs = []\n",
    "docs_lazy = sample_loader.lazy_load()\n",
    "\n",
    "for doc in docs_lazy:\n",
    "    docs.append(doc)\n",
    "    "
   ]
  },
  {
   "cell_type": "code",
   "execution_count": 7,
   "metadata": {},
   "outputs": [
    {
     "name": "stdout",
     "output_type": "stream",
     "text": [
      "Chapter One\n",
      "ELECTRIC CHARGES\n",
      "AND FIELDS\n",
      "1.1  I NTRODUCTION\n",
      "All of us have the experience of seeing a spark or hearing a crackle when\n",
      "we take of f our synthetic clothes or sweater , particularly in dry weather .\n",
      "Have you ever tried to find any explanation for this phenomenon? Another\n",
      "common example of electric discharge is the lightning that we see in the\n",
      "sky during thunderstor ms. W e also experience a sensation of an electric\n",
      "shock either while opening the door of a car or holding the iron bar \n",
      "\n",
      "---\n",
      "\n",
      "2Physics\n",
      "elektr on meaning amber . Many such pairs of materials wer e known which\n",
      "on rubbing could attract light objects like straw, pith balls and bits of\n",
      "papers.\n",
      "It was observed that if two glass rods rubbed with wool or silk cloth\n",
      "are brought close to each other , they r epel each other [Fig. 1.1(a)]. The\n",
      "two strands of wool or two pieces of silk cloth, with which the rods were\n",
      "rubbed, also r epel each other . However , the glass r od and wool attracted\n",
      "each other . Similarly, two plastic r o\n",
      "\n",
      "---\n",
      "\n",
      "Electric Charges\n",
      "and Fields\n",
      "3A simple apparatus to detect charge  on a body  is the gold-leaf\n",
      "electroscope [Fig. 1.2(a)]. It consists of a vertical metal rod housed in a\n",
      "box, with two thin gold leaves attached to its bottom end. When a charged\n",
      "object touches the metal knob at the top of the rod, charge flows on to\n",
      "the leaves and they diverge. The degree of divergance is an indicator of\n",
      "the amount of charge.\n",
      "Try to understand why material bodies acquir e char ge. You know that\n",
      "all matter is made \n",
      "\n",
      "---\n",
      "\n",
      "4Physics\n",
      "like spoon does not. The charges on metal leak through\n",
      "our body to the ground as both are conductors of\n",
      "electricity. However , if a metal r od with a wooden or plastic\n",
      "handle is rubbed without touching its metal part, it shows\n",
      "signs of charging.\n",
      "1.4  B ASIC PROPERTIES  OF ELECTRIC\n",
      "CHARGE\n",
      "We have seen that ther e are two types of char ges, namely\n",
      "positive and negative and their effects tend to cancel each\n",
      "other . Here,  we shall now describe some other pr operties\n",
      "of the electric charge.\n",
      "\n",
      "---\n",
      "\n",
      "Electric Charges\n",
      "and Fields\n",
      "5in a process. Sometimes nature creates charged particles: a neutron turns\n",
      "into a proton and an electron. The proton and electron thus create d have\n",
      "equal and opposite charges and the total charge is zero before and after\n",
      "the creation.\n",
      "1.4.3  Quantisation of charge\n",
      "Experimentally it is established that all free charges are integral multiples\n",
      "of a basic unit of charge denoted by e. Thus charge q on a body is always\n",
      "given by\n",
      "q = ne\n",
      "wher e n is any integer , positive or \n",
      "\n",
      "---\n",
      "\n",
      "6Physics\n",
      " EXAMPLE  1.2  EXAMPLE  1.1each other normally give an impression of a continuous line, many\n",
      "small charges taken together appear as a continuous charge distribution.\n",
      "At the macroscopic level, one deals with charges that are enormous\n",
      "compared to the magnitude of charge e . Since e = 1.6 × 10–19 C, a charge\n",
      "of magnituOde, say 1 mC, contains something like 1013 times the electronic\n",
      "charge. At this scale, the fact that charge can increase or decrease only in\n",
      "units of e is not very different\n",
      "\n",
      "---\n",
      "\n",
      "Electric Charges\n",
      "and Fields\n",
      "7acted along the line joining the two charges . Thus, if two\n",
      "point charges q1, q2 are separated by a distance r in vacuum,\n",
      "the magnitude of the force ( F) between them is given by\n",
      "2 1\n",
      "2q qF kr= (1.1)\n",
      "How did Coulomb arrive at this law from his experiments?\n",
      "Coulomb used a torsion balance *  for measuring the force\n",
      "between two charged metallic spheres. When the separation\n",
      "between two spheres is much larger than the radius of each\n",
      "sphere, the charged spheres may be regar\n",
      "\n",
      "---\n",
      "\n",
      "8Physics\n",
      "9 × 109 N. One coulomb is evidently too big a unit to\n",
      "be used. In practice, in electrostatics, one uses\n",
      "smaller units like 1 mC or 1 mC.\n",
      "The constant k in Eq. (1.1) is usually put as\n",
      "k = 1/4 pe0 for later convenience, so that Coulomb’s\n",
      "law is written as\n",
      "01 2\n",
      "21\n",
      "4q qFrε=π(1.2)\n",
      "e0 is called the permittivity of fr ee space . The value\n",
      "of e0 in SI units is\n",
      "0= 8.854 × 10–12 C2 N–1m–2\n",
      "Since for ce is a vector , it is better to write\n",
      "Coulomb’s law in the vector notation. Let the position\n",
      "vect\n",
      "\n",
      "---\n",
      "\n",
      "Electric Charges\n",
      "and Fields\n",
      "9\n",
      " EXAMPLE  1.3Interactive animation on Coulomb’s law:\n",
      "http://webphysics.davidson.edu/physlet_resources/bu_semester2/menu_semester2.html·The force F12  on charge q1 due to charge q2, is obtained from Eq. (1.3),\n",
      "by simply interchanging 1 and 2, i.e.,\n",
      "1 2\n",
      "12 12 21 2\n",
      "0 121ˆ\n",
      "4ε= = −πF r Fq q\n",
      "r\n",
      "Thus, Coulomb’s law agrees with the Newton’s third law.\n",
      "·Coulomb’s law [Eq. (1.3)] gives the force between two charges q1 and\n",
      "q2 in vacuum. If the charges are placed in matter or th\n",
      "\n",
      "---\n",
      "\n",
      "10Physics\n",
      " (b) The electric force F exerted by a proton on an electron is same in\n",
      "magnitude to the for ce exerted by an electr on on a pr oton; however ,\n",
      "the masses of an electron and a proton are different. Thus, the\n",
      "magnitude of force is\n",
      "|F| = 1\n",
      "402\n",
      "2πεe\n",
      "r = 8.987 × 109 Nm2/C2 × (1.6 ×10–19C)2 / (10–10m)2\n",
      "        = 2.3 × 10–8 N\n",
      "Using Newton’s second law of motion, F = ma, the acceleration\n",
      "that an electron will undergo is\n",
      "a = 2.3×10–8 N / 9.11 ×10–31 kg = 2.5 × 1022 m/s2\n",
      "Comparing this with the\n",
      "\n",
      "---\n",
      "\n"
     ]
    }
   ],
   "source": [
    "for i in range(0, 10):\n",
    "    print(docs[i].page_content[:500])\n",
    "    print('\\n---\\n')"
   ]
  },
  {
   "cell_type": "code",
   "execution_count": 8,
   "metadata": {},
   "outputs": [
    {
     "data": {
      "text/plain": [
       "{'leph101.pdf': <langchain_community.document_loaders.pdf.PyPDFLoader at 0x2b046c01640>}"
      ]
     },
     "execution_count": 8,
     "metadata": {},
     "output_type": "execute_result"
    }
   ],
   "source": [
    "parser"
   ]
  },
  {
   "cell_type": "code",
   "execution_count": null,
   "metadata": {},
   "outputs": [],
   "source": []
  }
 ],
 "metadata": {
  "kernelspec": {
   "display_name": "Python 3",
   "language": "python",
   "name": "python3"
  },
  "language_info": {
   "codemirror_mode": {
    "name": "ipython",
    "version": 3
   },
   "file_extension": ".py",
   "mimetype": "text/x-python",
   "name": "python",
   "nbconvert_exporter": "python",
   "pygments_lexer": "ipython3",
   "version": "3.12.6"
  }
 },
 "nbformat": 4,
 "nbformat_minor": 2
}
