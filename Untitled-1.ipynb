{
  "cells": [
    {
      "source": [
        "!pip install langchain-community # Uncomment and run this line to install the package\n",
        "%pip install -qU pypdf\n",
        "\n",
        "from langchain_community.document_loaders import PyPDFLoader # This line should work after installation\n",
        "from langchain_core.vectorstores import InMemoryVectorStore\n",
        "from pathlib import Path\n",
        "\n",
        "from IPython.display import clear_output\n",
        "clear_output()"
      ],
      "cell_type": "code",
      "metadata": {
        "id": "0rTLH6JhB_dT"
      },
      "execution_count": 1,
      "outputs": []
    },
    {
      "cell_type": "code",
      "source": [
        "import requests\n",
        "\n",
        "def download_from_github_raw(url, filename):\n",
        "  \"\"\"Downloads a file from a GitHub raw link.\n",
        "\n",
        "  Args:\n",
        "    url: The URL of the GitHub raw file.\n",
        "    filename: The name to save the file as.\n",
        "  \"\"\"\n",
        "\n",
        "  response = requests.get(url, stream=True)\n",
        "  response.raise_for_status()  # Raise an exception for bad status codes\n",
        "\n",
        "  with open(filename, 'wb') as file:\n",
        "    for chunk in response.iter_content(chunk_size=8192):\n",
        "      file.write(chunk)\n",
        "\n",
        "  print(f\"File '{filename}' downloaded successfully.\")"
      ],
      "metadata": {
        "id": "Rlc5B9lNCMcb"
      },
      "execution_count": 2,
      "outputs": []
    },
    {
      "cell_type": "code",
      "execution_count": 3,
      "metadata": {
        "id": "8FSXCJGU_A7r",
        "outputId": "b34a6161-e3f7-4f92-8da8-a51b8d75785a",
        "colab": {
          "base_uri": "https://localhost:8080/"
        }
      },
      "outputs": [
        {
          "output_type": "stream",
          "name": "stdout",
          "text": [
            "File 'Data/pdfs/leph101.pdf' downloaded successfully.\n"
          ]
        }
      ],
      "source": [
        "PDFDIR = Path('Data') / 'pdfs'\n",
        "PDFDIR.mkdir(parents=True, exist_ok=True)\n",
        "\n",
        "url = \"https://github.com/messi10tom/NoteG/blob/3bb03449e23aa8701f7714624ffb197215309b9f/Data/pdfs/leph101.pdf?raw=true\"\n",
        "filename = PDFDIR / 'leph101.pdf'\n",
        "download_from_github_raw(url, filename)"
      ]
    },
    {
      "cell_type": "code",
      "execution_count": 4,
      "metadata": {
        "id": "pZOAvPHn_A7s"
      },
      "outputs": [],
      "source": [
        "def pdfparser(dir: Path) -> dict:\n",
        "\n",
        "    parser = {}\n",
        "\n",
        "    for pdf in dir.glob('*.pdf'):\n",
        "        pdf_loader = PyPDFLoader(\n",
        "            file_path = pdf,\n",
        "            extract_images = False\n",
        "        )\n",
        "        parser[pdf.name] = pdf_loader\n",
        "\n",
        "    return parser\n"
      ]
    },
    {
      "cell_type": "code",
      "execution_count": 5,
      "metadata": {
        "id": "IA5Fm9hI_A7s"
      },
      "outputs": [],
      "source": [
        "parser = pdfparser(PDFDIR)\n",
        "sample_loader = next(iter(parser.values()))\n",
        "\n",
        "docs = []\n",
        "docs_lazy = sample_loader.lazy_load()\n",
        "\n",
        "for doc in docs_lazy:\n",
        "    docs.append(doc)\n",
        ""
      ]
    },
    {
      "cell_type": "code",
      "execution_count": 6,
      "metadata": {
        "id": "-r45A9ol_A7t",
        "outputId": "b3c76649-8b75-41aa-eb1a-360a7e2ca5bd",
        "colab": {
          "base_uri": "https://localhost:8080/"
        }
      },
      "outputs": [
        {
          "output_type": "stream",
          "name": "stdout",
          "text": [
            "Chapter One\n",
            "ELECTRIC CHARGES\n",
            "AND FIELDS\n",
            "1.1  I NTRODUCTION\n",
            "All of us have the experience of seeing a spark or hearing a crackle when\n",
            "we take of f our synthetic clothes or sweater , particularly in dry weather .\n",
            "Have you ever tried to find any explanation for this phenomenon? Another\n",
            "common example of electric discharge is the lightning that we see in the\n",
            "sky during thunderstor ms. W e also experience a sensation of an electric\n",
            "shock either while opening the door of a car or holding the iron bar \n",
            "\n",
            "---\n",
            "\n",
            "2Physics\n",
            "elektr on meaning amber . Many such pairs of materials wer e known which\n",
            "on rubbing could attract light objects like straw, pith balls and bits of\n",
            "papers.\n",
            "It was observed that if two glass rods rubbed with wool or silk cloth\n",
            "are brought close to each other , they r epel each other [Fig. 1.1(a)]. The\n",
            "two strands of wool or two pieces of silk cloth, with which the rods were\n",
            "rubbed, also r epel each other . However , the glass r od and wool attracted\n",
            "each other . Similarly, two plastic r o\n",
            "\n",
            "---\n",
            "\n",
            "Electric Charges\n",
            "and Fields\n",
            "3A simple apparatus to detect charge  on a body  is the gold-leaf\n",
            "electroscope [Fig. 1.2(a)]. It consists of a vertical metal rod housed in a\n",
            "box, with two thin gold leaves attached to its bottom end. When a charged\n",
            "object touches the metal knob at the top of the rod, charge flows on to\n",
            "the leaves and they diverge. The degree of divergance is an indicator of\n",
            "the amount of charge.\n",
            "Try to understand why material bodies acquir e char ge. You know that\n",
            "all matter is made \n",
            "\n",
            "---\n",
            "\n"
          ]
        }
      ],
      "source": [
        "for i in range(3):\n",
        "    print(docs[i].page_content[:500])\n",
        "    print('\\n---\\n')"
      ]
    },
    {
      "cell_type": "markdown",
      "source": [
        "### Data Analyzing\n",
        "-> We will be analyzing the quality of data."
      ],
      "metadata": {
        "id": "ohplLXTdEz4A"
      }
    },
    {
      "cell_type": "code",
      "execution_count": 7,
      "metadata": {
        "id": "88pwIe2P_A7u",
        "outputId": "931ef5ef-b4d9-4b7a-d584-8401f6aa33a2",
        "colab": {
          "base_uri": "https://localhost:8080/"
        }
      },
      "outputs": [
        {
          "output_type": "stream",
          "name": "stdout",
          "text": [
            "Total number of characters: 100671\n"
          ]
        }
      ],
      "source": [
        "total_text = '\\n'.join([doc.page_content for doc in docs])\n",
        "print(f'Total number of characters: {len(total_text)}')"
      ]
    },
    {
      "cell_type": "code",
      "source": [
        "# @title Chunking text\n",
        "\n",
        "total_text = total_text.split('.')\n"
      ],
      "metadata": {
        "id": "F0dcfsJqKx0m"
      },
      "execution_count": 8,
      "outputs": []
    },
    {
      "cell_type": "code",
      "source": [
        "import matplotlib.pyplot as plt\n",
        "from collections import Counter\n",
        "\n",
        "def plot_length_distribution(total_text):\n",
        "  \"\"\"Plots a histogram of the length of each element in total_text.\"\"\"\n",
        "\n",
        "  text_lengths = [len(element) for element in total_text]\n",
        "\n",
        "  print(f'Total number of sentences: {len(text_lengths)}')\n",
        "  print(f'Average length of sentences: {sum(text_lengths) / len(text_lengths)}')\n",
        "  print(f'Maximum length of sentences: {max(text_lengths)}')\n",
        "  print(f'Minimum length of sentences: {min(text_lengths)}')\n",
        "  print(f'Median length of sentences: {sorted(text_lengths)[len(text_lengths) // 2]}')\n",
        "\n",
        "  length_counts = Counter(text_lengths)  # Count occurrences of each length\n",
        "  print(f'Most frequent: {length_counts.most_common(1)[0][0]}')\n",
        "\n",
        "  plt.hist(text_lengths, bins=50)\n",
        "  plt.xlabel('Length of Text Element')\n",
        "  plt.ylabel('Frequency')\n",
        "  plt.title('Distribution of Text Element Lengths')\n",
        "  plt.show()\n",
        "\n",
        "# Example usage:\n",
        "plot_length_distribution(total_text)"
      ],
      "metadata": {
        "id": "whXAloLFLPfV",
        "outputId": "31381796-aa22-45be-b9c2-fbd48e05b5cf",
        "colab": {
          "base_uri": "https://localhost:8080/",
          "height": 576
        }
      },
      "execution_count": 9,
      "outputs": [
        {
          "output_type": "stream",
          "name": "stdout",
          "text": [
            "Total number of sentences: 1348\n",
            "Average length of sentences: 73.68249258160238\n",
            "Maximum length of sentences: 405\n",
            "Minimum length of sentences: 0\n",
            "Median length of sentences: 66\n",
            "Most frequent: 2\n"
          ]
        },
        {
          "output_type": "display_data",
          "data": {
            "text/plain": [
              "<Figure size 640x480 with 1 Axes>"
            ],
            "image/png": "[encoded data removed]"
          },
          "metadata": {}
        }
      ]
    },
    {
      "cell_type": "markdown",
      "source": [
        "From above plot we can see most of the text is junk. So next what we gonna do is cleaning up the data"
      ],
      "metadata": {
        "id": "abu_ZJSUN_qI"
      }
    },
    {
      "cell_type": "code",
      "source": [
        "import re\n",
        "\n",
        "def score_function(sentence):\n",
        "  total_alph_char = len(re.findall(r'[a-zA-Z]', sentence))\n",
        "  total_words = len(sentence.split(' '))\n",
        "  total_spaces = sentence.count(' ') if ' ' in sentence else float('inf')\n",
        "  total_numbers = len(re.findall(r'\\d', sentence))\n",
        "  total_symbols = len(sentence) - total_alph_char - total_numbers\n",
        "\n",
        "  return total_alph_char * total_words / total_spaces - total_symbols"
      ],
      "metadata": {
        "id": "--khFfxLPnWy"
      },
      "execution_count": 10,
      "outputs": []
    },
    {
      "cell_type": "code",
      "source": [
        "score_function(total_text[0])"
      ],
      "metadata": {
        "id": "VqIWyfzbSbsZ",
        "outputId": "1f257fc4-00f0-4a84-d828-058e492034ed",
        "colab": {
          "base_uri": "https://localhost:8080/"
        }
      },
      "execution_count": 11,
      "outputs": [
        {
          "output_type": "execute_result",
          "data": {
            "text/plain": [
              "39.333333333333336"
            ]
          },
          "metadata": {},
          "execution_count": 11
        }
      ]
    },
    {
      "cell_type": "code",
      "source": [
        "def get_score_lenght(sentences):\n",
        "  return ([score_function(sentence) for sentence in sentences],\n",
        "        [len(sentence) for sentence in sentences])"
      ],
      "metadata": {
        "id": "YPJCUsOMS06J"
      },
      "execution_count": 12,
      "outputs": []
    },
    {
      "cell_type": "code",
      "source": [
        "score, length = get_score_lenght(total_text)\n",
        "\n",
        "plt.scatter(score, length, s=5)\n",
        "plt.xlabel('Score')\n",
        "plt.ylabel('Length')\n",
        "plt.title('Scatter Plot of Score vs. Length')"
      ],
      "metadata": {
        "id": "NfqDaFuFTlJV",
        "outputId": "60d4a78b-c998-4f57-f86b-9191ed3b71fc",
        "colab": {
          "base_uri": "https://localhost:8080/",
          "height": 489
        }
      },
      "execution_count": 13,
      "outputs": [
        {
          "output_type": "execute_result",
          "data": {
            "text/plain": [
              "Text(0.5, 1.0, 'Scatter Plot of Score vs. Length')"
            ]
          },
          "metadata": {},
          "execution_count": 13
        },
        {
          "output_type": "display_data",
          "data": {
            "text/plain": [
              "<Figure size 640x480 with 1 Axes>"
            ],
            "image/png": "[encoded data removed]"
          },
          "metadata": {}
        }
      ]
    },
    {
      "cell_type": "code",
      "source": [
        "threshold_score = 50\n",
        "score = {sentence: score_function(sentence) for sentence in total_text if score_function(sentence) > threshold_score}\n",
        "sorted_score = dict(sorted(score.items(), key=lambda item: item[1]))\n",
        "\n",
        "print(f'total sample = {len(sorted_score)}')\n",
        "print(f\"percent of loss = {(len(total_text) - len(sorted_score)) / len(total_text) * 100}\")\n",
        "for i, (text, score) in enumerate(sorted_score.items()):\n",
        "  print(text, '\\n\\n------\\n')\n",
        "  print('score =', score)\n",
        "  if i == 10:\n",
        "    break"
      ],
      "metadata": {
        "id": "rg9f4FYkX8G0",
        "outputId": "c5e34c4a-8c88-4493-fe09-34f793b38101",
        "colab": {
          "base_uri": "https://localhost:8080/"
        }
      },
      "execution_count": 16,
      "outputs": [
        {
          "output_type": "stream",
          "name": "stdout",
          "text": [
            "total sample = 520\n",
            "percent of loss = 61.42433234421365\n",
            "\n",
            "It is interesting to see that the sum of the forces on the three charges\n",
            "is zero, i \n",
            "\n",
            "------\n",
            "\n",
            "score = 50.0625\n",
            " For this model, what is the electric field at a distance\n",
            "r from the nucleus?\n",
            "FIGURE  1 \n",
            "\n",
            "------\n",
            "\n",
            "score = 50.125\n",
            "\n",
            "The magnitude of p × E is also p E sinq and its direction\n",
            "is nor mal to the paper , coming out of it \n",
            "\n",
            "------\n",
            "\n",
            "score = 50.21739130434783\n",
            " This basic unit of char ge is\n",
            "the charge that an electron or proton carries \n",
            "\n",
            "------\n",
            "\n",
            "score = 50.35714285714286\n",
            " One coulomb is, therefore, a very large\n",
            "unit for many practical purposes \n",
            "\n",
            "------\n",
            "\n",
            "score = 50.36363636363636\n",
            " Further , the outwar d\n",
            "normal to 2 is along E while the outward normal to 1 is opposite to E \n",
            "\n",
            "------\n",
            "\n",
            "score = 50.45\n",
            "7)\n",
            "Note that the charge q also exerts an equal and opposite force on the\n",
            "charge Q \n",
            "\n",
            "------\n",
            "\n",
            "score = 50.5\n",
            "28)\n",
            "where we have used Coulomb’s law for the electric field due to a single\n",
            "charge q \n",
            "\n",
            "------\n",
            "\n",
            "score = 50.57142857142857\n",
            " Thus charge q on a body is always\n",
            "given by\n",
            "q = ne\n",
            "wher e n is any integer , positive or negative \n",
            "\n",
            "------\n",
            "\n",
            "score = 50.599999999999994\n",
            "DS is separately zero for each face\n",
            "of the cube except the two shaded ones \n",
            "\n",
            "------\n",
            "\n",
            "score = 50.61538461538461\n",
            "6 × 104 N C–1\n",
            "The electric field vector E2B at B due to the negative charge q2 points\n",
            "towards the right and has a magnitude\n",
            "9 2 –2 8\n",
            "2B 2(9 10 Nm C ) (10 C)\n",
            "(0 \n",
            "\n",
            "------\n",
            "\n",
            "score = 50.848484848484844\n"
          ]
        }
      ]
    },
    {
      "cell_type": "code",
      "source": [
        "plot_length_distribution(sorted_score.keys())"
      ],
      "metadata": {
        "id": "mCknAhN5YH96",
        "outputId": "62bdab40-d831-427d-925d-440d991dc061",
        "colab": {
          "base_uri": "https://localhost:8080/",
          "height": 576
        }
      },
      "execution_count": 18,
      "outputs": [
        {
          "output_type": "stream",
          "name": "stdout",
          "text": [
            "Total number of sentences: 520\n",
            "Average length of sentences: 132.54615384615386\n",
            "Maximum length of sentences: 405\n",
            "Minimum length of sentences: 59\n",
            "Median length of sentences: 122\n",
            "Most frequent: 87\n"
          ]
        },
        {
          "output_type": "display_data",
          "data": {
            "text/plain": [
              "<Figure size 640x480 with 1 Axes>"
            ],
            "image/png": "[encoded data removed]"
          },
          "metadata": {}
        }
      ]
    },
    {
      "cell_type": "markdown",
      "source": [
        "We can see that now the data is in more better region, but it doesn't mean that our data contains only meaningfull sentences"
      ],
      "metadata": {
        "id": "fRf0vIS0YtYm"
      }
    },
    {
      "cell_type": "code",
      "source": [],
      "metadata": {
        "id": "WHvifuvvZMN_"
      },
      "execution_count": null,
      "outputs": []
    }
  ],
  "metadata": {
    "kernelspec": {
      "display_name": "Python 3",
      "language": "python",
      "name": "python3"
    },
    "language_info": {
      "codemirror_mode": {
        "name": "ipython",
        "version": 3
      },
      "file_extension": ".py",
      "mimetype": "text/x-python",
      "name": "python",
      "nbconvert_exporter": "python",
      "pygments_lexer": "ipython3",
      "version": "3.12.6"
    },
    "colab": {
      "provenance": []
    }
  },
  "nbformat": 4,
  "nbformat_minor": 0
}